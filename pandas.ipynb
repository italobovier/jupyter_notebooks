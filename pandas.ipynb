{
 "cells": [
  {
   "cell_type": "markdown",
   "metadata": {},
   "source": [
    "# Apostila: Introdução à Biblioteca Pandas\n",
    "\n",
    "## 1. O que é o Pandas?\n",
    "\n",
    "Pandas é uma biblioteca poderosa para manipulação e análise de dados em Python. Ela fornece estruturas de dados e funções necessárias para trabalhar com tabelas de dados, como DataFrames e Series."
   ]
  },
  {
   "cell_type": "markdown",
   "metadata": {},
   "source": [
    "\n",
    "---"
   ]
  },
  {
   "cell_type": "markdown",
   "metadata": {},
   "source": [
    "## 2. Instalando o Pandas\n",
    "\n",
    "Para começar a usar o Pandas, você precisa instalá-lo. Você pode instalar o Pandas via pip, caso ainda não o tenha instalado:"
   ]
  },
  {
   "cell_type": "code",
   "execution_count": 57,
   "metadata": {},
   "outputs": [
    {
     "name": "stdout",
     "output_type": "stream",
     "text": [
      "Requirement already satisfied: pandas in c:\\users\\aluno manhã\\appdata\\local\\programs\\python\\python312\\lib\\site-packages (2.2.2)\n",
      "Requirement already satisfied: numpy>=1.26.0 in c:\\users\\aluno manhã\\appdata\\local\\programs\\python\\python312\\lib\\site-packages (from pandas) (2.1.0)\n",
      "Requirement already satisfied: python-dateutil>=2.8.2 in c:\\users\\aluno manhã\\appdata\\roaming\\python\\python312\\site-packages (from pandas) (2.9.0.post0)\n",
      "Requirement already satisfied: pytz>=2020.1 in c:\\users\\aluno manhã\\appdata\\local\\programs\\python\\python312\\lib\\site-packages (from pandas) (2024.1)\n",
      "Requirement already satisfied: tzdata>=2022.7 in c:\\users\\aluno manhã\\appdata\\local\\programs\\python\\python312\\lib\\site-packages (from pandas) (2024.1)\n",
      "Requirement already satisfied: six>=1.5 in c:\\users\\aluno manhã\\appdata\\roaming\\python\\python312\\site-packages (from python-dateutil>=2.8.2->pandas) (1.16.0)\n"
     ]
    }
   ],
   "source": [
    "!pip install pandas"
   ]
  },
  {
   "cell_type": "code",
   "execution_count": 27,
   "metadata": {},
   "outputs": [
    {
     "name": "stdout",
     "output_type": "stream",
     "text": [
      "Collecting openpyxlNote: you may need to restart the kernel to use updated packages.\n",
      "\n",
      "  Downloading openpyxl-3.1.5-py2.py3-none-any.whl.metadata (2.5 kB)\n",
      "Collecting et-xmlfile (from openpyxl)\n",
      "  Downloading et_xmlfile-1.1.0-py3-none-any.whl.metadata (1.8 kB)\n",
      "Downloading openpyxl-3.1.5-py2.py3-none-any.whl (250 kB)\n",
      "Downloading et_xmlfile-1.1.0-py3-none-any.whl (4.7 kB)\n",
      "Installing collected packages: et-xmlfile, openpyxl\n",
      "Successfully installed et-xmlfile-1.1.0 openpyxl-3.1.5\n"
     ]
    }
   ],
   "source": [
    "pip install openpyxl"
   ]
  },
  {
   "cell_type": "markdown",
   "metadata": {},
   "source": [
    "\n",
    "---"
   ]
  },
  {
   "cell_type": "markdown",
   "metadata": {},
   "source": [
    "## 3. Importando a Biblioteca\n",
    "\n",
    "Uma vez que o Pandas está instalado, você precisa importá-lo para o seu código Python. Por padrão, é comum usar o alias `pd` para o Pandas:"
   ]
  },
  {
   "cell_type": "code",
   "execution_count": 28,
   "metadata": {},
   "outputs": [],
   "source": [
    "import pandas as pd"
   ]
  },
  {
   "cell_type": "markdown",
   "metadata": {},
   "source": [
    "\n",
    "---"
   ]
  },
  {
   "cell_type": "markdown",
   "metadata": {},
   "source": [
    "## 4. Estruturas de Dados Básicas\n",
    "\n",
    "### 4.1 Series\n",
    "\n",
    "Uma `Series` é uma estrutura de dados unidimensional, semelhante a um array ou uma lista."
   ]
  },
  {
   "cell_type": "code",
   "execution_count": 22,
   "metadata": {},
   "outputs": [
    {
     "name": "stdout",
     "output_type": "stream",
     "text": [
      "0    10\n",
      "1    20\n",
      "2    30\n",
      "3    40\n",
      "dtype: int64\n"
     ]
    }
   ],
   "source": [
    "# Criando uma Series\n",
    "data = pd.Series([10, 20, 30, 40])\n",
    "print(data)"
   ]
  },
  {
   "cell_type": "markdown",
   "metadata": {},
   "source": [
    "\n",
    "---\n"
   ]
  },
  {
   "cell_type": "markdown",
   "metadata": {},
   "source": [
    "### 4.2 DataFrame\n",
    "Um `DataFrame` é uma estrutura de dados bidimensional, semelhante a uma tabela ou uma planilha do Excel.\n"
   ]
  },
  {
   "cell_type": "code",
   "execution_count": 30,
   "metadata": {},
   "outputs": [
    {
     "name": "stdout",
     "output_type": "stream",
     "text": [
      "      Nome  Idade\n",
      "0    Ítalo     27\n",
      "1    Pablo     28\n",
      "2  Emanuel     17\n"
     ]
    }
   ],
   "source": [
    "# Criando um DataFrame\n",
    "data = {\n",
    "    'Nome': ['Ítalo', 'Pablo', 'Emanuel'],\n",
    "    'Idade': [27, 28, 17]\n",
    "}\n",
    "df = pd.DataFrame(data)\n",
    "print(df)\n"
   ]
  },
  {
   "cell_type": "markdown",
   "metadata": {},
   "source": [
    "\n",
    "---"
   ]
  },
  {
   "cell_type": "markdown",
   "metadata": {},
   "source": [
    "## 5. Carregando Dados\n",
    "\n",
    "---\n",
    "\n",
    "### 5.1 De Arquivos CSV\n",
    "\n",
    "Você pode carregar dados de um arquivo CSV usando a função `read_csv`:\n"
   ]
  },
  {
   "cell_type": "code",
   "execution_count": 31,
   "metadata": {},
   "outputs": [
    {
     "name": "stdout",
     "output_type": "stream",
     "text": [
      "                   Track              Artist Duration  Time_Signature  \\\n",
      "0                   Babe                Styx     3:38               4   \n",
      "1               The Rose        Bette Midler     4:04               4   \n",
      "2                   Cars          Gary Numan     4:08               4   \n",
      "3                  Magic  Olivia Newton-John     2:17               4   \n",
      "4  We Don’t Talk Anymore       Cliff Richard     3:37               4   \n",
      "\n",
      "   Danceability  Energy  Key  Loudness  Mode  Speechiness  Acousticness  \\\n",
      "0         0.700   0.582   11    -5.960     0       0.0356       0.05020   \n",
      "1         0.264   0.640    8    -6.221     1       0.0442       0.03930   \n",
      "2         0.338   0.562    9    -7.181     1       0.0290       0.03900   \n",
      "3         0.911   0.689    1    -6.176     1       0.2650       0.00119   \n",
      "4         0.728   0.563    1    -8.053     0       0.1340       0.62100   \n",
      "\n",
      "   Instrumentalness  Liveness  Valence    Tempo  Popularity  Year  \n",
      "0          0.000000    0.0881    0.785  116.712          96  1980  \n",
      "1          0.000002    0.1510    0.190   84.828          92  1980  \n",
      "2          0.000000    0.1070    0.259  149.907          82  1980  \n",
      "3          0.000000    0.0704    0.546  140.034          80  1980  \n",
      "4          0.000000    0.1790    0.352  100.017          80  1980  \n"
     ]
    }
   ],
   "source": [
    "df = pd.read_csv('C:\\\\Users\\\\Aluno Manhã\\\\Documents\\\\apostila_pandas\\\\1980sClassics.csv')\n",
    "print(df.head())  # Exibe as primeiras linhas do DataFrame\n"
   ]
  },
  {
   "cell_type": "markdown",
   "metadata": {},
   "source": [
    "\n",
    "---"
   ]
  },
  {
   "cell_type": "markdown",
   "metadata": {},
   "source": [
    "### 5.2 De Arquivos Excel\n",
    "\n",
    "Para arquivos Excel, use a função `read_excel`:\n"
   ]
  },
  {
   "cell_type": "code",
   "execution_count": 38,
   "metadata": {},
   "outputs": [
    {
     "name": "stdout",
     "output_type": "stream",
     "text": [
      "Arquivo encontrado.\n"
     ]
    }
   ],
   "source": [
    "import os\n",
    "\n",
    "# Path to your file\n",
    "file_path = r'C:\\\\Users\\\\Aluno Manhã\\\\Documents\\\\apostila_pandas\\\\1980sClassics.xlsx'\n",
    "\n",
    "# Check if the file exists\n",
    "if os.path.exists(file_path):\n",
    "    print(\"Arquivo encontrado.\")\n",
    "else:\n",
    "    print(\"Arquivo não encontrado.\")\n"
   ]
  },
  {
   "cell_type": "markdown",
   "metadata": {},
   "source": [
    "\n",
    "---"
   ]
  },
  {
   "cell_type": "markdown",
   "metadata": {},
   "source": [
    "## 6. Manipulando Dados\n",
    "\n",
    "---\n",
    "\n",
    "### 6.1 Visualizando Dados\n",
    "\n",
    "Você pode visualizar as primeiras e últimas linhas de um DataFrame com `head()` e `tail()`:"
   ]
  },
  {
   "cell_type": "code",
   "execution_count": 36,
   "metadata": {},
   "outputs": [
    {
     "name": "stdout",
     "output_type": "stream",
     "text": [
      "                   Track              Artist Duration  Time_Signature  \\\n",
      "0                   Babe                Styx     3:38               4   \n",
      "1               The Rose        Bette Midler     4:04               4   \n",
      "2                   Cars          Gary Numan     4:08               4   \n",
      "3                  Magic  Olivia Newton-John     2:17               4   \n",
      "4  We Don’t Talk Anymore       Cliff Richard     3:37               4   \n",
      "\n",
      "   Danceability  Energy  Key  Loudness  Mode  Speechiness  Acousticness  \\\n",
      "0         0.700   0.582   11    -5.960     0       0.0356       0.05020   \n",
      "1         0.264   0.640    8    -6.221     1       0.0442       0.03930   \n",
      "2         0.338   0.562    9    -7.181     1       0.0290       0.03900   \n",
      "3         0.911   0.689    1    -6.176     1       0.2650       0.00119   \n",
      "4         0.728   0.563    1    -8.053     0       0.1340       0.62100   \n",
      "\n",
      "   Instrumentalness  Liveness  Valence    Tempo  Popularity  Year  \n",
      "0          0.000000    0.0881    0.785  116.712          96  1980  \n",
      "1          0.000002    0.1510    0.190   84.828          92  1980  \n",
      "2          0.000000    0.1070    0.259  149.907          82  1980  \n",
      "3          0.000000    0.0704    0.546  140.034          80  1980  \n",
      "4          0.000000    0.1790    0.352  100.017          80  1980  \n",
      "                                     Track                 Artist Duration  \\\n",
      "993                   When I Looked At Him                 Exposé     4:19   \n",
      "994                 I Remember Holding You              Boys Club     4:53   \n",
      "995                          Don’t Rush Me           Taylor Dayne     4:32   \n",
      "996           I’ll Be Loving You (FOREVER)  New Kids on the Block     6:04   \n",
      "997  Baby, I Love Your Way/Freebird Medley          Will to Power     4:05   \n",
      "\n",
      "     Time_Signature  Danceability  Energy  Key  Loudness  Mode  Speechiness  \\\n",
      "993               4         0.455   0.713    8   -10.959     1       0.0423   \n",
      "994               4         0.609   0.843    2    -7.973     0       0.0447   \n",
      "995               4         0.686   0.847    7    -7.692     1       0.2840   \n",
      "996               4         0.371   0.710   11    -6.437     1       0.0481   \n",
      "997               4         0.581   0.498    7    -9.246     1       0.0338   \n",
      "\n",
      "     Acousticness  Instrumentalness  Liveness  Valence    Tempo  Popularity  \\\n",
      "993        0.2300          0.000332    0.3700    0.469  169.633          24   \n",
      "994        0.3070          0.000598    0.0517    0.762   92.480          19   \n",
      "995        0.4450          0.000000    0.2500    0.748   90.793          15   \n",
      "996        0.0964          0.000000    0.7400    0.223  135.003          15   \n",
      "997        0.2390          0.783000    0.0516    0.601  152.450           0   \n",
      "\n",
      "     Year  \n",
      "993  1989  \n",
      "994  1989  \n",
      "995  1989  \n",
      "996  1989  \n",
      "997  1989  \n"
     ]
    }
   ],
   "source": [
    "print(df.head())  # Primeiras 5 linhas\n",
    "print(df.tail())  # Últimas 5 linhas"
   ]
  },
  {
   "cell_type": "markdown",
   "metadata": {},
   "source": [
    "\n",
    "---"
   ]
  },
  {
   "cell_type": "markdown",
   "metadata": {},
   "source": [
    "### 6.2 Selecionando Colunas\n",
    "\n",
    "Para selecionar uma coluna específica, use a notação de colchetes:\n"
   ]
  },
  {
   "cell_type": "code",
   "execution_count": 45,
   "metadata": {},
   "outputs": [
    {
     "name": "stdout",
     "output_type": "stream",
     "text": [
      "Columns: Index(['Track', 'Artist', 'Duration', 'Time_Signature', 'Danceability',\n",
      "       'Energy', 'Key', 'Loudness', 'Mode', 'Speechiness', 'Acousticness',\n",
      "       'Instrumentalness', 'Liveness', 'Valence', 'Tempo', 'Popularity',\n",
      "       'Year'],\n",
      "      dtype='object')\n",
      "0                                       Babe\n",
      "1                                   The Rose\n",
      "2                                       Cars\n",
      "3                                      Magic\n",
      "4                      We Don’t Talk Anymore\n",
      "                       ...                  \n",
      "993                     When I Looked At Him\n",
      "994                   I Remember Holding You\n",
      "995                            Don’t Rush Me\n",
      "996             I’ll Be Loving You (FOREVER)\n",
      "997    Baby, I Love Your Way/Freebird Medley\n",
      "Name: Track, Length: 998, dtype: object\n"
     ]
    }
   ],
   "source": [
    "import pandas as pd\n",
    "\n",
    "# Path to your file\n",
    "file_path = r'C:\\Users\\Aluno Manhã\\Documents\\apostila_pandas\\1980sClassics.xlsx'\n",
    "\n",
    "# Read Excel file\n",
    "df = pd.read_excel(file_path)\n",
    "\n",
    "# Print the first few rows of the DataFrame\n",
    "print(df.head())\n",
    "\n",
    "# Print specific columns\n",
    "print(df[['Track', 'Artist', 'Duration']])\n",
    "\n",
    "# Check if a column exists and print it\n",
    "column_name = 'Artist'\n",
    "if column_name in df.columns:\n",
    "    print(df[column_name])\n",
    "else:\n",
    "    print(f\"Column '{column_name}' does not exist.\")"
   ]
  },
  {
   "cell_type": "markdown",
   "metadata": {},
   "source": [
    "\n",
    "---"
   ]
  },
  {
   "cell_type": "markdown",
   "metadata": {},
   "source": [
    "### 6.3 Filtrando Dados\n",
    "\n",
    "Você pode filtrar dados com condições booleanas:\n"
   ]
  },
  {
   "cell_type": "code",
   "execution_count": 48,
   "metadata": {},
   "outputs": [
    {
     "name": "stdout",
     "output_type": "stream",
     "text": [
      "                                     Track                    Artist Duration  \\\n",
      "100                               Together                    Tierra     2:28   \n",
      "101                             I Love You         Climax Blues Band     2:40   \n",
      "102                                   Time  The Alan Parsons Project     3:49   \n",
      "103                                  Woman               John Lennon     2:52   \n",
      "104                     You Make My Dreams   Daryl Hall & John Oates     3:10   \n",
      "..                                     ...                       ...      ...   \n",
      "993                   When I Looked At Him                    Exposé     4:19   \n",
      "994                 I Remember Holding You                 Boys Club     4:53   \n",
      "995                          Don’t Rush Me              Taylor Dayne     4:32   \n",
      "996           I’ll Be Loving You (FOREVER)     New Kids on the Block     6:04   \n",
      "997  Baby, I Love Your Way/Freebird Medley             Will to Power     4:05   \n",
      "\n",
      "     Time_Signature  Danceability  Energy  Key  Loudness  Mode  Speechiness  \\\n",
      "100               4         0.646   0.668    2    -5.203     1       0.0282   \n",
      "101               4         0.575   0.648   10    -4.891     1       0.0358   \n",
      "102               4         0.721   0.802    1    -5.797     1       0.0583   \n",
      "103               4         0.824   0.764    5    -4.175     0       0.0854   \n",
      "104               4         0.751   0.501    5   -12.151     1       0.0551   \n",
      "..              ...           ...     ...  ...       ...   ...          ...   \n",
      "993               4         0.455   0.713    8   -10.959     1       0.0423   \n",
      "994               4         0.609   0.843    2    -7.973     0       0.0447   \n",
      "995               4         0.686   0.847    7    -7.692     1       0.2840   \n",
      "996               4         0.371   0.710   11    -6.437     1       0.0481   \n",
      "997               4         0.581   0.498    7    -9.246     1       0.0338   \n",
      "\n",
      "     Acousticness  Instrumentalness  Liveness  Valence    Tempo  Popularity  \\\n",
      "100        0.4910          0.000000    0.2120    0.640   90.969          92   \n",
      "101        0.5830          0.000000    0.1150    0.466   75.977          88   \n",
      "102        0.0921          0.000000    0.6940    0.724  124.022          85   \n",
      "103        0.0888          0.002940    0.1170    0.881  107.998          84   \n",
      "104        0.2340          0.112000    0.0467    0.902  167.057          84   \n",
      "..            ...               ...       ...      ...      ...         ...   \n",
      "993        0.2300          0.000332    0.3700    0.469  169.633          24   \n",
      "994        0.3070          0.000598    0.0517    0.762   92.480          19   \n",
      "995        0.4450          0.000000    0.2500    0.748   90.793          15   \n",
      "996        0.0964          0.000000    0.7400    0.223  135.003          15   \n",
      "997        0.2390          0.783000    0.0516    0.601  152.450           0   \n",
      "\n",
      "     Year  \n",
      "100  1981  \n",
      "101  1981  \n",
      "102  1981  \n",
      "103  1981  \n",
      "104  1981  \n",
      "..    ...  \n",
      "993  1989  \n",
      "994  1989  \n",
      "995  1989  \n",
      "996  1989  \n",
      "997  1989  \n",
      "\n",
      "[898 rows x 17 columns]\n"
     ]
    }
   ],
   "source": [
    "filtered_df = df[df['Year'] > 1980]\n",
    "print(filtered_df)"
   ]
  },
  {
   "cell_type": "markdown",
   "metadata": {},
   "source": [
    "\n",
    "---"
   ]
  },
  {
   "cell_type": "markdown",
   "metadata": {},
   "source": [
    "## 7. Manipulação Avançada\n",
    "\n",
    "---\n",
    "\n",
    "### 7.1 Agrupando Dados\n",
    "\n",
    "Você pode usar o método `groupby` para agrupar dados:\n"
   ]
  },
  {
   "cell_type": "code",
   "execution_count": 52,
   "metadata": {},
   "outputs": [],
   "source": [
    "# Group by 'Track' and calculate the mean of numeric columns only\n",
    "grouped = df.select_dtypes(include=['number']).groupby(df['Track']).mean()"
   ]
  },
  {
   "cell_type": "markdown",
   "metadata": {},
   "source": [
    "\n",
    "---"
   ]
  },
  {
   "cell_type": "markdown",
   "metadata": {},
   "source": [
    "### 7.2 Mesclando DataFrames\n",
    "\n",
    "Para combinar DataFrames, você pode usar `merge`:"
   ]
  },
  {
   "cell_type": "code",
   "execution_count": 53,
   "metadata": {},
   "outputs": [
    {
     "name": "stdout",
     "output_type": "stream",
     "text": [
      "   ID     Nome  Salário\n",
      "0   1    Ítalo     5000\n",
      "1   2    Pablo     6000\n",
      "2   3  Emanuel     7000\n"
     ]
    }
   ],
   "source": [
    "df1 = pd.DataFrame({'ID': [1, 2, 3], 'Nome': ['Ítalo', 'Pablo', 'Emanuel']})\n",
    "df2 = pd.DataFrame({'ID': [1, 2, 3], 'Salário': [5000, 6000, 7000]})\n",
    "merged_df = pd.merge(df1, df2, on='ID')\n",
    "print(merged_df)"
   ]
  },
  {
   "cell_type": "markdown",
   "metadata": {},
   "source": [
    "\n",
    "---"
   ]
  },
  {
   "cell_type": "markdown",
   "metadata": {},
   "source": [
    "## 8. Salvando Dados\n",
    "\n",
    "---\n",
    "\n",
    "### 8.1 Para CSV\n",
    "\n",
    "Para salvar um DataFrame em um arquivo CSV:"
   ]
  },
  {
   "cell_type": "code",
   "execution_count": 55,
   "metadata": {},
   "outputs": [],
   "source": [
    "df.to_csv(r'C:\\Users\\Aluno Manhã\\Documents\\apostila_pandas\\Novo\\novo.csv', index=False)"
   ]
  },
  {
   "cell_type": "markdown",
   "metadata": {},
   "source": [
    "\n",
    "---"
   ]
  },
  {
   "cell_type": "markdown",
   "metadata": {},
   "source": [
    "### 8.2 Para Excel\n",
    "\n",
    "Para salvar um DataFrame em um arquivo Excel:\n"
   ]
  },
  {
   "cell_type": "code",
   "execution_count": 56,
   "metadata": {},
   "outputs": [],
   "source": [
    "df.to_excel(r'C:\\Users\\Aluno Manhã\\Documents\\apostila_pandas\\Novo\\novo.xlsx', index=False)"
   ]
  },
  {
   "cell_type": "markdown",
   "metadata": {},
   "source": [
    "\n",
    "---"
   ]
  },
  {
   "cell_type": "markdown",
   "metadata": {},
   "source": [
    "## 9. Recursos Adicionais\n",
    "\n",
    "- [Documentação Oficial do Pandas](https://pandas.pydata.org/pandas-docs/stable/)\n",
    "- [Tutorial de Pandas no W3Schools](https://www.w3schools.com/python/pandas/default.asp)\n"
   ]
  }
 ],
 "metadata": {
  "kernelspec": {
   "display_name": "Python 3",
   "language": "python",
   "name": "python3"
  },
  "language_info": {
   "codemirror_mode": {
    "name": "ipython",
    "version": 3
   },
   "file_extension": ".py",
   "mimetype": "text/x-python",
   "name": "python",
   "nbconvert_exporter": "python",
   "pygments_lexer": "ipython3",
   "version": "3.12.5"
  }
 },
 "nbformat": 4,
 "nbformat_minor": 2
}
